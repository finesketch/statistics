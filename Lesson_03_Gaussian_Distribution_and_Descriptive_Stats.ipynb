{
  "nbformat": 4,
  "nbformat_minor": 0,
  "metadata": {
    "colab": {
      "name": "Lesson 03 - Gaussian Distribution and Descriptive Stats.ipynb",
      "provenance": [],
      "authorship_tag": "ABX9TyMSMm7DmK0aq4mM2rixRXIC",
      "include_colab_link": true
    },
    "kernelspec": {
      "name": "python3",
      "display_name": "Python 3"
    },
    "language_info": {
      "name": "python"
    }
  },
  "cells": [
    {
      "cell_type": "markdown",
      "metadata": {
        "id": "view-in-github",
        "colab_type": "text"
      },
      "source": [
        "<a href=\"https://colab.research.google.com/github/finesketch/statistics/blob/main/Lesson_03_Gaussian_Distribution_and_Descriptive_Stats.ipynb\" target=\"_parent\"><img src=\"https://colab.research.google.com/assets/colab-badge.svg\" alt=\"Open In Colab\"/></a>"
      ]
    },
    {
      "cell_type": "code",
      "metadata": {
        "id": "fnvYVJuTvufc"
      },
      "source": [
        ""
      ],
      "execution_count": null,
      "outputs": []
    },
    {
      "cell_type": "markdown",
      "metadata": {
        "id": "hq76mOU_wQD6"
      },
      "source": [
        "For **Gaussian** distribution, it can be summarized in these two parameters:\n",
        "* **Mean**: The central tendency, most likey value in the distribution.\n",
        "* **Variance**: The average difference that observations have from the mean value."
      ]
    },
    {
      "cell_type": "code",
      "metadata": {
        "id": "cNN4IpSHxOW4"
      },
      "source": [
        "# calculate summary stats\n",
        "from numpy.random import seed\n",
        "from numpy.random import randn\n",
        "from numpy import mean\n",
        "from numpy import var\n",
        "from numpy import std"
      ],
      "execution_count": 1,
      "outputs": []
    },
    {
      "cell_type": "code",
      "metadata": {
        "id": "3mehTOB-xi7J"
      },
      "source": [
        "# seed\n",
        "seed(1)"
      ],
      "execution_count": null,
      "outputs": []
    },
    {
      "cell_type": "code",
      "metadata": {
        "id": "CuC-R24Nxle-"
      },
      "source": [
        "# generate univariate observations\n",
        "data = 5 * randn(1000) + 50"
      ],
      "execution_count": null,
      "outputs": []
    },
    {
      "cell_type": "code",
      "metadata": {
        "colab": {
          "base_uri": "https://localhost:8080/"
        },
        "id": "JomduRGjxudm",
        "outputId": "377d5fc5-ee97-4dc5-e56b-ae0db48de4f7"
      },
      "source": [
        "# calculate statistics\n",
        "print(\"Mean: %.3f\" % mean(data))\n",
        "print(\"Variance: %.3f\" % var(data))\n",
        "print(\"Standard Deviation: %.3f\" % std(data))"
      ],
      "execution_count": null,
      "outputs": [
        {
          "output_type": "stream",
          "text": [
            "Mean: 50.194\n",
            "Variance: 24.059\n",
            "Standard Deviation: 4.905\n"
          ],
          "name": "stdout"
        }
      ]
    },
    {
      "cell_type": "code",
      "metadata": {
        "id": "PHpiZ79uyKEB"
      },
      "source": [
        "def variance(data):\n",
        "  # number of observations\n",
        "  n = len(data)\n",
        "  # mean of the data\n",
        "  mean = sum(data) / n\n",
        "  # square deviation\n",
        "  deviations = [(x - mean)**2 for x in data]\n",
        "  # variance\n",
        "  variance = sum(deviations) / n\n",
        "  return variance"
      ],
      "execution_count": null,
      "outputs": []
    },
    {
      "cell_type": "code",
      "metadata": {
        "colab": {
          "base_uri": "https://localhost:8080/"
        },
        "id": "-3p8OSUoy-98",
        "outputId": "5bc9d55b-18ed-487d-dbd0-0e38e32a6338"
      },
      "source": [
        "print(\"My Variance: %.3f\" % variance(data))"
      ],
      "execution_count": null,
      "outputs": [
        {
          "output_type": "stream",
          "text": [
            "My Variance: 24.059\n"
          ],
          "name": "stdout"
        }
      ]
    },
    {
      "cell_type": "code",
      "metadata": {
        "id": "4AI4YnkezOat"
      },
      "source": [
        "def better_variance(data, ddof=0):\n",
        "  n = len(data)\n",
        "  mean = sum(data) / n\n",
        "  return sum((x - mean)**2 for x in data) / (n - ddof)"
      ],
      "execution_count": null,
      "outputs": []
    },
    {
      "cell_type": "code",
      "metadata": {
        "colab": {
          "base_uri": "https://localhost:8080/"
        },
        "id": "6abqou40znOX",
        "outputId": "a6949b34-3843-42e8-9322-c6ab4df79143"
      },
      "source": [
        "print(\"My Variance: %.3f\" % better_variance(data, 0.1))"
      ],
      "execution_count": null,
      "outputs": [
        {
          "output_type": "stream",
          "text": [
            "My Variance: 24.062\n"
          ],
          "name": "stdout"
        }
      ]
    },
    {
      "cell_type": "code",
      "metadata": {
        "id": "PRqB1bGbzxvb"
      },
      "source": [
        "import math\n",
        "\n",
        "def standard_deviation(data):\n",
        "  var = variance(data)\n",
        "  std_dev = math.sqrt(var)\n",
        "  return std_dev"
      ],
      "execution_count": null,
      "outputs": []
    },
    {
      "cell_type": "code",
      "metadata": {
        "id": "gVJu_mZD0Lik",
        "colab": {
          "base_uri": "https://localhost:8080/"
        },
        "outputId": "46576043-3548-4a62-d4a8-d6049dc205ad"
      },
      "source": [
        "print(\"Standard Deviation: %.3f\" % standard_deviation(data))"
      ],
      "execution_count": null,
      "outputs": [
        {
          "output_type": "stream",
          "text": [
            "Standard Deviation: 4.905\n"
          ],
          "name": "stdout"
        }
      ]
    },
    {
      "cell_type": "code",
      "metadata": {
        "colab": {
          "base_uri": "https://localhost:8080/"
        },
        "id": "akRtBxRRhOhJ",
        "outputId": "28b5bc1f-8e29-4aa3-9731-83fc2af000fe"
      },
      "source": [
        "data = [1, 2, 3, 4, 5]\n",
        "print(\"Mean: %.3f\" % mean(data))\n",
        "print(\"Variance: %.3f\" % var(data))\n",
        "print(\"Standard Deviation: %.3f\" % std(data))"
      ],
      "execution_count": 3,
      "outputs": [
        {
          "output_type": "stream",
          "text": [
            "Mean: 3.000\n",
            "Variance: 2.000\n",
            "Standard Deviation: 1.414\n"
          ],
          "name": "stdout"
        }
      ]
    },
    {
      "cell_type": "code",
      "metadata": {
        "colab": {
          "base_uri": "https://localhost:8080/"
        },
        "id": "i5Y8MDzUhOr2",
        "outputId": "5da6b059-0c75-423b-dbec-5f3921ca13e5"
      },
      "source": [
        "import math\n",
        "\n",
        "print(math.sqrt(2))"
      ],
      "execution_count": 4,
      "outputs": [
        {
          "output_type": "stream",
          "text": [
            "1.4142135623730951\n"
          ],
          "name": "stdout"
        }
      ]
    }
  ]
}