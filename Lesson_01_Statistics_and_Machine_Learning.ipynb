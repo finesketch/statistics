{
  "nbformat": 4,
  "nbformat_minor": 0,
  "metadata": {
    "colab": {
      "name": "Lesson 01 - Statistics and Machine Learning.ipynb",
      "provenance": [],
      "authorship_tag": "ABX9TyPSXDJHe/KCHCplyQ1uY1P3",
      "include_colab_link": true
    },
    "kernelspec": {
      "name": "python3",
      "display_name": "Python 3"
    },
    "language_info": {
      "name": "python"
    }
  },
  "cells": [
    {
      "cell_type": "markdown",
      "metadata": {
        "id": "view-in-github",
        "colab_type": "text"
      },
      "source": [
        "<a href=\"https://colab.research.google.com/github/finesketch/statistics/blob/main/Lesson_01_Statistics_and_Machine_Learning.ipynb\" target=\"_parent\"><img src=\"https://colab.research.google.com/assets/colab-badge.svg\" alt=\"Open In Colab\"/></a>"
      ]
    },
    {
      "cell_type": "code",
      "metadata": {
        "id": "AE0yblC_ol6h"
      },
      "source": [
        ""
      ],
      "execution_count": null,
      "outputs": []
    },
    {
      "cell_type": "markdown",
      "metadata": {
        "id": "rCvyTLeQo1jg"
      },
      "source": [
        "There are five primary reasons why learning statistics is important for Machine Learning practitioner.\n",
        "\n",
        "**One - Use Statistics for Data Preparation**\n",
        "During the preparation of the data, the statistical methods are needed to train and test the data. Below are some of the techniques:\n",
        "* Outliner detection\n",
        "* Missing value information\n",
        "* Data sampling\n",
        "* Data scaling\n",
        "* Variable encoding\n",
        "\n",
        "**Two - Use Statistics for Model Evaluation**\n",
        "During the evaluation of the Machine Learning's model, the statistical methods are needed to training. Below are some of the techniques:\n",
        "* Data sampling\n",
        "* Data resampling (k-fold, cross-validation)\n",
        "* Experimental design\n",
        "\n",
        "**Three - Use Statistics for Model Selection**\n",
        "During the selection of the Machine Learning's model, the statistical methods are needed to make decision on the final model review and selection. Below are some of the techniques:\n",
        "* Checking for a significant different between results\n",
        "* Quantifying the size of the difference between results\n",
        "\n",
        "**Four - Use Statistics for Model Presentation**\n",
        "During the presentation of the Machine Learning's model, the statistical methods are needed to presenting the skill of a final model to stakeholders. Below are some of the techniques:\n",
        "* Summarizing the expected skill of the model on average\n",
        "* Quantifying the expected variability of the skill of the model in practice.\n",
        "\n",
        "**Five - Use Statistics for Prediction**\n",
        "Finally, statistics methods are needed for prediction. \n",
        "* Quantifying the expected variability of the skill of the model in practice.\n",
        "\n",
        "Source: https://machinelearningmastery.com/statistics-for-machine-learning-mini-course/"
      ]
    }
  ]
}