{
  "nbformat": 4,
  "nbformat_minor": 0,
  "metadata": {
    "colab": {
      "name": "Lesson 04 - Correlation Between Variables.ipynb",
      "provenance": [],
      "authorship_tag": "ABX9TyOE52PnngjBSlFpRfjCqJRX",
      "include_colab_link": true
    },
    "kernelspec": {
      "name": "python3",
      "display_name": "Python 3"
    },
    "language_info": {
      "name": "python"
    }
  },
  "cells": [
    {
      "cell_type": "markdown",
      "metadata": {
        "id": "view-in-github",
        "colab_type": "text"
      },
      "source": [
        "<a href=\"https://colab.research.google.com/github/finesketch/statistics/blob/main/Lesson_04_Correlation_Between_Variables.ipynb\" target=\"_parent\"><img src=\"https://colab.research.google.com/assets/colab-badge.svg\" alt=\"Open In Colab\"/></a>"
      ]
    },
    {
      "cell_type": "code",
      "metadata": {
        "id": "2_q2E701kJq3"
      },
      "source": [
        "# calculate correlation coefficient\n",
        "from numpy.random import seed\n",
        "from numpy.random import randn\n",
        "from scipy.stats import pearsonr"
      ],
      "execution_count": 1,
      "outputs": []
    },
    {
      "cell_type": "code",
      "metadata": {
        "id": "WKYcy5vbkjQ8"
      },
      "source": [
        "# seed random number generator\n",
        "seed(1)\n",
        "\n",
        "#prepare data\n",
        "data1 = 20 * randn(1000) + 100\n",
        "data2 = data1 + (10 * randn(1000) + 50)"
      ],
      "execution_count": 2,
      "outputs": []
    },
    {
      "cell_type": "code",
      "metadata": {
        "id": "EOYEt25gkztX"
      },
      "source": [
        "# calculate Pearson's correlation of two variables\n",
        "corr, p = pearsonr(data1, data2)"
      ],
      "execution_count": 3,
      "outputs": []
    },
    {
      "cell_type": "code",
      "metadata": {
        "colab": {
          "base_uri": "https://localhost:8080/"
        },
        "id": "5aLnlVONk-gL",
        "outputId": "0c17d9f5-e783-46a4-9468-3fd6fcac990a"
      },
      "source": [
        "# display the correlation\n",
        "print(\"Pearsons correlation: %.3f\" % corr)"
      ],
      "execution_count": 4,
      "outputs": [
        {
          "output_type": "stream",
          "text": [
            "Pearsons correlation: 0.888\n"
          ],
          "name": "stdout"
        }
      ]
    },
    {
      "cell_type": "code",
      "metadata": {
        "colab": {
          "base_uri": "https://localhost:8080/"
        },
        "id": "kOOMSYCSlQNz",
        "outputId": "d691ecd1-b53f-41cb-b356-a87f64421227"
      },
      "source": [
        "#Lesson 4\n",
        "# For this lesson, you must load a standard machine learning dataset and calculate the correlation between each pair of numerical variables.\n",
        "\n",
        "# Calculate dataset correlation coefficient\n",
        "from numpy.random import seed\n",
        "from numpy.random import randn\n",
        "from scipy.stats import pearsonr\n",
        "import pandas\n",
        "\n",
        "# load the dataset\n",
        "url = '/local_dataset.csv'\n",
        "names = ['column1', 'column2', 'column3', 'column4', 'column5']\n",
        "dataset = pandas.read_csv(url, names=names)\n",
        "\n",
        "# prepare data\n",
        "array = dataset.values\n",
        "datas = []\n",
        "datas.append(('column1', array[:, 0]))\n",
        "datas.append(('column2', array[:, 1]))\n",
        "datas.append(('column3', array[:, 2]))\n",
        "datas.append(('column4', array[:, 3]))\n",
        "\n",
        "# calculate the correlation between each pair of numerical column variables\n",
        "for i in range(3):\n",
        "   for j in range(4):\n",
        "      if j > i:\n",
        "         # calculate Pearson's correlation\n",
        "         corr, p = pearsonr(datas[i][1], datas[j][1])\n",
        "\t\t\t\n",
        "         # display correlation coefficient\n",
        "         print('(\"%s\",\"%s\") correlation coefficient: %.3f' % (datas[i][0],datas[j][0],corr))"
      ],
      "execution_count": 5,
      "outputs": [
        {
          "output_type": "stream",
          "text": [
            "0.0\n"
          ],
          "name": "stdout"
        }
      ]
    }
  ]
}