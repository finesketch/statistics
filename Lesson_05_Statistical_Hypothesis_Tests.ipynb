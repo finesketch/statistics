{
  "nbformat": 4,
  "nbformat_minor": 0,
  "metadata": {
    "colab": {
      "name": "Lesson 05 - Statistical Hypothesis Tests.ipynb",
      "provenance": [],
      "authorship_tag": "ABX9TyMxZGKbGj8bk89f1NzmjTog",
      "include_colab_link": true
    },
    "kernelspec": {
      "name": "python3",
      "display_name": "Python 3"
    },
    "language_info": {
      "name": "python"
    }
  },
  "cells": [
    {
      "cell_type": "markdown",
      "metadata": {
        "id": "view-in-github",
        "colab_type": "text"
      },
      "source": [
        "<a href=\"https://colab.research.google.com/github/finesketch/statistics/blob/main/Lesson_05_Statistical_Hypothesis_Tests.ipynb\" target=\"_parent\"><img src=\"https://colab.research.google.com/assets/colab-badge.svg\" alt=\"Open In Colab\"/></a>"
      ]
    },
    {
      "cell_type": "markdown",
      "metadata": {
        "id": "6F-qoqyXWWxI"
      },
      "source": [
        "The purpose of the statistical hypothesis tests is to compare two samples and analyze the difference in them.\n",
        "\n",
        "Data must be interpreted in order to gain meaning and understanding. We can interpret data by assuming a specific structure our outcome and use statistical methods to confirm or reject the assumption. \n",
        "\n",
        "So this assumption can be called hypothesis, and the statistical tests used for this purpose are called *statistical hypothesis tests*.\n",
        "\n",
        "The assumption of a statisical test is called the *null hypothesis*, or *hypothesis zero* (**H0** for short), or the assumption that nothing has changed, or default assumption. The violation of the test's assumption is called first hypothesis, hypothesis one, or simply **H1**.\n",
        "\n",
        "* **Hypothesis 0 (H0)**: Assumption of the test holds and is failed to be rejected.\n",
        "* **Hypothesis 1 (H1)**: Assumption of the test does not hold, and is rejected at some level of significance.\n",
        "\n",
        "We can interpret the result of a statistical hypothesis test using **p-value**, which is the probability of observing the data, given the null hypothesis is true.\n",
        "\n",
        "Intepretion the probability of the p-value:\n",
        "\n",
        "* A large probability of the p-value, **H0** is likely to hold.\n",
        "* A small p-value like below 5% (or 0.05), we can reject **H0** and in favor of **H1**.\n",
        "\n",
        "A popular statistical hypothesis test method is **Student's t-test** for comparing the mean values from two independent samples.\n",
        "\n",
        "So here is how to compare the two samples: The default assumption is that there is no difference between the samples, but a rejection of this assumption suggests that there are some significance of difference. The tests assumes that both samples are drawn from a Gaussian distribution and have the same variance.\n"
      ]
    },
    {
      "cell_type": "code",
      "metadata": {
        "id": "LnNTdUxqbkjp"
      },
      "source": [
        "# Student's t-test\n",
        "from numpy.random import seed\n",
        "from numpy.random import randn\n",
        "from scipy.stats import ttest_ind"
      ],
      "execution_count": 1,
      "outputs": []
    },
    {
      "cell_type": "code",
      "metadata": {
        "id": "HJi-vtE6WU4v"
      },
      "source": [
        "# seed the random number generator\n",
        "seed(1)"
      ],
      "execution_count": 17,
      "outputs": []
    },
    {
      "cell_type": "code",
      "metadata": {
        "id": "ui452V-cb-oq"
      },
      "source": [
        "# generate two independent samples\n",
        "data1 = 5 * randn(100) + 50\n",
        "data2 = 5 * randn(100) + 51"
      ],
      "execution_count": 18,
      "outputs": []
    },
    {
      "cell_type": "code",
      "metadata": {
        "colab": {
          "base_uri": "https://localhost:8080/"
        },
        "id": "xEKQd-K9cKCA",
        "outputId": "be13deb5-cdb3-4b01-d089-7df04f6eafc4"
      },
      "source": [
        "# statistical hypothesis test - comparing two samples\n",
        "stats, p = ttest_ind(data1, data2)\n",
        "print('Statistics=%.3f, p=%.3f' % (stats, p))"
      ],
      "execution_count": 19,
      "outputs": [
        {
          "output_type": "stream",
          "text": [
            "Statistics=-2.262, p=0.025\n"
          ],
          "name": "stdout"
        }
      ]
    },
    {
      "cell_type": "code",
      "metadata": {
        "colab": {
          "base_uri": "https://localhost:8080/"
        },
        "id": "rTaXy7bTclll",
        "outputId": "d70834a5-50a6-4fde-f839-646d758f9130"
      },
      "source": [
        "# interpret the results\n",
        "alpha = 0.05\n",
        "\n",
        "if p > alpha:\n",
        "  print('Same distributions (fail to reject H0)')\n",
        "else:\n",
        "  print('Different distribution (reject H0)')"
      ],
      "execution_count": 20,
      "outputs": [
        {
          "output_type": "stream",
          "text": [
            "Different distribution (reject H0)\n"
          ],
          "name": "stdout"
        }
      ]
    },
    {
      "cell_type": "markdown",
      "metadata": {
        "id": "4r8muL1adis6"
      },
      "source": [
        "**Assignment Task:**\n",
        "\n",
        "Question:\n",
        "List three other statistical hypothesis tests.\n",
        "\n",
        "Answer:\n",
        "Here are other statistical hypothesis tests:\n",
        "* Z-Test, https://www.investopedia.com/terms/z/z-test.asp\n",
        "* ANOVA Test, https://www.statisticshowto.com/probability-and-statistics/hypothesis-testing/anova/\n",
        "* Pearson's Chi-Square Test, chi-square test of independence\n",
        "* Ronald Fisher's Significance Test\n"
      ]
    },
    {
      "cell_type": "markdown",
      "metadata": {
        "id": "VUY_D1aUbnD7"
      },
      "source": [
        "Source: https://machinelearningmastery.com/statistics-for-machine-learning-mini-course/"
      ]
    }
  ]
}