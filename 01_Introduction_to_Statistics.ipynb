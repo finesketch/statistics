{
  "nbformat": 4,
  "nbformat_minor": 0,
  "metadata": {
    "colab": {
      "name": "01 - Introduction to Statistics.ipynb",
      "provenance": [],
      "authorship_tag": "ABX9TyOAdw+9hMVDEf7TNIQ1vOnr",
      "include_colab_link": true
    },
    "kernelspec": {
      "name": "python3",
      "display_name": "Python 3"
    },
    "language_info": {
      "name": "python"
    }
  },
  "cells": [
    {
      "cell_type": "markdown",
      "metadata": {
        "id": "view-in-github",
        "colab_type": "text"
      },
      "source": [
        "<a href=\"https://colab.research.google.com/github/finesketch/statistics/blob/main/01_Introduction_to_Statistics.ipynb\" target=\"_parent\"><img src=\"https://colab.research.google.com/assets/colab-badge.svg\" alt=\"Open In Colab\"/></a>"
      ]
    },
    {
      "cell_type": "markdown",
      "metadata": {
        "id": "Ew7-rymqywNs"
      },
      "source": [
        "Statistics is a collection of tools that you can use to get answers to important questions about data. You can use **descriptive statistical methods** to transform raw observations into information that you can understand and share. You can use **inferential statistical methods** to reason from small samples of data to whole domains.\n",
        "\n",
        "* Statistics is generally considered a prerequisite to the field of applied machine learning. \n",
        "* We need statistics to help transform observations into information and to answer questions about samples of observations.\n",
        "* Statistics is a collection of tools developed over hundreds of years for summarizing data and quantifying properties of a domain given a sample of observations."
      ]
    },
    {
      "cell_type": "code",
      "metadata": {
        "id": "KljIXMLWywwI"
      },
      "source": [
        ""
      ],
      "execution_count": null,
      "outputs": []
    },
    {
      "cell_type": "code",
      "metadata": {
        "id": "PQMqBxzgyw7Y"
      },
      "source": [
        ""
      ],
      "execution_count": null,
      "outputs": []
    }
  ]
}