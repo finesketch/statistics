{
  "nbformat": 4,
  "nbformat_minor": 0,
  "metadata": {
    "colab": {
      "name": "03 - Examples of Statistics in Machine Learning.ipynb",
      "provenance": [],
      "authorship_tag": "ABX9TyNZ9jk/IrQGA354Vm+xm1iB",
      "include_colab_link": true
    },
    "kernelspec": {
      "name": "python3",
      "display_name": "Python 3"
    },
    "language_info": {
      "name": "python"
    }
  },
  "cells": [
    {
      "cell_type": "markdown",
      "metadata": {
        "id": "view-in-github",
        "colab_type": "text"
      },
      "source": [
        "<a href=\"https://colab.research.google.com/github/finesketch/statistics/blob/main/03_Examples_of_Statistics_in_Machine_Learning.ipynb\" target=\"_parent\"><img src=\"https://colab.research.google.com/assets/colab-badge.svg\" alt=\"Open In Colab\"/></a>"
      ]
    },
    {
      "cell_type": "markdown",
      "metadata": {
        "id": "d5TwD2cwPzM2"
      },
      "source": [
        "Understanding of statistical methods will help to effectively work on the machine learning problem. Here are some of the examples of the sttistical methods which are extremely usedful in a predictive modeling problem.\n",
        "* Exploratory data analysis, data summarization, and data visualizations can be used to help frame your predictive modeling problem and better understand the data.\n",
        "* That statistical methods can be used to clean and prepare data ready for modeling.\n",
        "* That statistical hypothesis tests and estimation statistics can aid in model selection and\n",
        "in presenting the skill and predictions from final models.\n",
        "\n",
        "**Ten useful Examples:**\n",
        "* Problem framing: What is the underline problem businese tries to solve.\n",
        "  * Statistical methods: Exploratory of data analysis\n",
        "  * Statistical methods: Data mining\n",
        "* Data understanding: Understanding the distributions of variables and the relationships among variables.\n",
        "  * Statistical methods: Summary statistics\n",
        "  * Statistical methods: Data visualizations\n",
        "* Data cleaning: Cleaning the corrupted data, fixing errors in the data, or fill-in the missing data.\n",
        "  * Statistical methods: Outlier detection\n",
        "  * Statistical methods: Imputation\n",
        "* Data selection: The process of reducing the scope of data, help to focus on what matters the most.\n",
        "  * Statistical methods: Data sample\n",
        "  * Statistical methods: Feature selection\n",
        "* Data preparation: Transforming data into an useful format which can be used for analysis and measurement.\n",
        "  * Statistical methods: Scaling\n",
        "  * Statistical methods: Encoding\n",
        "  * Statistical methods: Transforms\n",
        "* Model evaluation: The process of reviewing the experimental design for the learning model.\n",
        "  * Statistical methods: Resampling methods\n",
        "* Model configuration: Processing of fine-tuning hyperparameters.\n",
        "  * Statistical methods: Statistical hypothesis tests\n",
        "  * Statistical methods: Estimation statistics\n",
        "* Model selection: Process of selecting one method as the solution.\n",
        "  * Statistical methods: Statistical hypothesis tests\n",
        "  * Statistical methods: Estimation statistics\n",
        "* Model presentation: Presenting the proposed solution/model to stakeholders.\n",
        "  * Statistical methods: Estimation statistics\n",
        "* Model predictions: Finally use the selected model for prediction.\n",
        "  * Statistical methods: Estimation statistics"
      ]
    },
    {
      "cell_type": "code",
      "metadata": {
        "id": "n2PY-OxhPzlG"
      },
      "source": [
        ""
      ],
      "execution_count": null,
      "outputs": []
    }
  ]
}