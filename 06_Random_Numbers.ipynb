{
  "nbformat": 4,
  "nbformat_minor": 0,
  "metadata": {
    "colab": {
      "name": "06 - Random Numbers.ipynb",
      "provenance": [],
      "authorship_tag": "ABX9TyNXWnpLKrIZATHR3LS2fsr6",
      "include_colab_link": true
    },
    "kernelspec": {
      "name": "python3",
      "display_name": "Python 3"
    },
    "language_info": {
      "name": "python"
    }
  },
  "cells": [
    {
      "cell_type": "markdown",
      "metadata": {
        "id": "view-in-github",
        "colab_type": "text"
      },
      "source": [
        "<a href=\"https://colab.research.google.com/github/finesketch/statistics/blob/main/06_Random_Numbers.ipynb\" target=\"_parent\"><img src=\"https://colab.research.google.com/assets/colab-badge.svg\" alt=\"Open In Colab\"/></a>"
      ]
    },
    {
      "cell_type": "markdown",
      "metadata": {
        "id": "X7bGSrbSySBx"
      },
      "source": [
        "Randomness is a big part of machine learning. Randomness is used as a tool or a feature in preparing data and in learning algorithms that map input data to output data in order to make predictions.\n",
        "\n",
        "The source of randomness in machine learning is a mathematical trick called a *pseudorandom* number generator."
      ]
    },
    {
      "cell_type": "markdown",
      "metadata": {
        "id": "RzKhNNTgyl3-"
      },
      "source": [
        "## Randomness in Machine Learning\n",
        "\n"
      ]
    },
    {
      "cell_type": "markdown",
      "metadata": {
        "id": "1mqQm7ix1lkM"
      },
      "source": [
        "## Random Numbers with Python\n",
        "\n",
        "The Python standard library provides a module called random that offers a suite of functions for generating random numbers. Python uses a popular and robust pseudorandom number generator called the **Mersenne Twister**."
      ]
    },
    {
      "cell_type": "code",
      "metadata": {
        "colab": {
          "base_uri": "https://localhost:8080/"
        },
        "id": "XIjOuQOtySXk",
        "outputId": "7b52a9a9-3437-4ba7-e818-ea39782779e0"
      },
      "source": [
        "# seed the pseudorandom number generator\n",
        "# meaning given the same seed, it will produce the same sequence of numbers every time.\n",
        "# If the seed() function is not called prior to using randomness, the default is to use the current system time in milliseconds from epoch (1970)\n",
        "from random import seed\n",
        "from random import random\n",
        "\n",
        "# seed random number generator\n",
        "seed(1)\n",
        "\n",
        "# generate some random numbers\n",
        "print(random(), random(), random())\n",
        "\n",
        "# reset the seed\n",
        "seed(1)\n",
        "\n",
        "# generate some random numbers\n",
        "print(random(), random(), random())"
      ],
      "execution_count": 1,
      "outputs": [
        {
          "output_type": "stream",
          "text": [
            "0.417022004702574 0.7203244934421581 0.00011437481734488664\n",
            "0.417022004702574 0.7203244934421581 0.00011437481734488664\n"
          ],
          "name": "stdout"
        }
      ]
    },
    {
      "cell_type": "code",
      "metadata": {
        "colab": {
          "base_uri": "https://localhost:8080/"
        },
        "id": "ut36k2hP2b0L",
        "outputId": "84ff3c62-9bdc-4e6b-a22c-d10ee293bb15"
      },
      "source": [
        "# generate random floating point values\n",
        "from random import seed\n",
        "from random import random\n",
        "\n",
        "# seed random number genertor \n",
        "seed(1)\n",
        "\n",
        "# generate random numbers between 0 and 1\n",
        "print('Set to Seed of \"1\":')\n",
        "for _ in range(10):\n",
        "  value = random()\n",
        "  print(value)\n",
        "\n",
        "# seed random number genertor \n",
        "seed(5)\n",
        "\n",
        "# generate random numbers between 0 and 1\n",
        "print('Set to Seed of \"5\":')\n",
        "for _ in range(10):\n",
        "  value = random()\n",
        "  print(value)  "
      ],
      "execution_count": 3,
      "outputs": [
        {
          "output_type": "stream",
          "text": [
            "Set to Seed of \"1\":\n",
            "0.02290419382011777\n",
            "0.013767871906265272\n",
            "0.8639210321685548\n",
            "0.0027216333430962747\n",
            "0.24500058428666904\n",
            "0.9356752277156742\n",
            "0.4320107345788229\n",
            "0.3843831733376474\n",
            "0.5639504770506025\n",
            "0.19097356937127596\n",
            "Set to Seed of \"5\":\n",
            "0.6695318129236498\n",
            "0.584080028382301\n",
            "0.9298930975041293\n",
            "0.8912685509262611\n",
            "0.7734944153048311\n",
            "0.353833039553328\n",
            "0.9876097772883745\n",
            "0.48281410594123697\n",
            "0.7648321593659458\n",
            "0.890608582155942\n"
          ],
          "name": "stdout"
        }
      ]
    },
    {
      "cell_type": "markdown",
      "metadata": {
        "id": "H1ktlhOE3uae"
      },
      "source": [
        "The floating point values could be rescaled to a desired range by multiplying them by the size of the new range and adding the min value, like:\n",
        "\n",
        "*scaledValue = min + (value × (max − min))*"
      ]
    },
    {
      "cell_type": "code",
      "metadata": {
        "colab": {
          "base_uri": "https://localhost:8080/"
        },
        "id": "sFryyZXV3tjS",
        "outputId": "3e227e1c-1425-4f1b-adba-2d05c94efd08"
      },
      "source": [
        "# generate random integer values\n",
        "from random import seed\n",
        "from random import randint\n",
        "\n",
        "# seed random number generator\n",
        "seed(1)\n",
        "\n",
        "# generate some integers\n",
        "for _ in range(10):\n",
        "  value = randint(0, 10)\n",
        "  print(value)"
      ],
      "execution_count": 5,
      "outputs": [
        {
          "output_type": "stream",
          "text": [
            "5\n",
            "8\n",
            "9\n",
            "5\n",
            "0\n",
            "0\n",
            "1\n",
            "7\n",
            "6\n",
            "9\n"
          ],
          "name": "stdout"
        }
      ]
    },
    {
      "cell_type": "markdown",
      "metadata": {
        "id": "aTySwNaJ5M19"
      },
      "source": [
        "**Rand Gaussian Values:** Random floating point values can be drawn from a Gaussian distribution using the gauss() function. This function takes two arguments that correspond to the parameters that control the size of the distribution, specifically the mean and the standard deviation."
      ]
    },
    {
      "cell_type": "code",
      "metadata": {
        "colab": {
          "base_uri": "https://localhost:8080/"
        },
        "id": "poqBlc0V3WuT",
        "outputId": "48ad5a1b-8701-47a3-c4f3-bc226686f714"
      },
      "source": [
        "# generate random Gaussian values\n",
        "from random import seed\n",
        "from random import gauss\n",
        "\n",
        "# seed random number generator\n",
        "seed(1)\n",
        "\n",
        "# generate some Gaussian values\n",
        "for _ in range(10):\n",
        "  value = gauss(0, 1)\n",
        "  print(value)"
      ],
      "execution_count": 7,
      "outputs": [
        {
          "output_type": "stream",
          "text": [
            "1.2881847531554629\n",
            "1.449445608699771\n",
            "0.06633580893826191\n",
            "-0.7645436509716318\n",
            "-1.0921732151041414\n",
            "0.03133451683171687\n",
            "-1.022103170010873\n",
            "-1.4368294451025299\n",
            "0.19931197648375384\n",
            "0.13337460465860485\n"
          ],
          "name": "stdout"
        }
      ]
    },
    {
      "cell_type": "code",
      "metadata": {
        "colab": {
          "base_uri": "https://localhost:8080/"
        },
        "id": "jOBLQ39j43Nc",
        "outputId": "96b0e305-d082-4a6d-8fac-9a50eb84bc7a"
      },
      "source": [
        "# chose a random element from a list\n",
        "from random import seed\n",
        "from random import choice\n",
        "\n",
        "# seed random number generator\n",
        "seed(1)\n",
        "\n",
        "# prepare a sequence\n",
        "sequence = [i for i in range(20)]\n",
        "print(sequence)\n",
        "\n",
        "# make choice from the sequence\n",
        "for _ in range(5):\n",
        "  selection = choice(sequence)\n",
        "  print(selection)\n"
      ],
      "execution_count": 8,
      "outputs": [
        {
          "output_type": "stream",
          "text": [
            "[0, 1, 2, 3, 4, 5, 6, 7, 8, 9, 10, 11, 12, 13, 14, 15, 16, 17, 18, 19]\n",
            "4\n",
            "18\n",
            "2\n",
            "8\n",
            "3\n"
          ],
          "name": "stdout"
        }
      ]
    },
    {
      "cell_type": "code",
      "metadata": {
        "colab": {
          "base_uri": "https://localhost:8080/"
        },
        "id": "msSGg7Rs503o",
        "outputId": "15f23d7f-d517-4cc5-b7ef-1ab3f750e536"
      },
      "source": [
        " # select a random sample without replacement\n",
        " from random import seed\n",
        " from random import sample\n",
        "\n",
        " # seed random number generator\n",
        " seed(1)\n",
        "\n",
        " # prepare a sequence\n",
        " sequence = [i for i in range(20)]\n",
        " print(sequence)\n",
        "\n",
        " # select a subset wihtout replacement\n",
        " subset = sample(sequence, 5)\n",
        " print(subset)"
      ],
      "execution_count": 9,
      "outputs": [
        {
          "output_type": "stream",
          "text": [
            "[0, 1, 2, 3, 4, 5, 6, 7, 8, 9, 10, 11, 12, 13, 14, 15, 16, 17, 18, 19]\n",
            "[4, 18, 2, 8, 3]\n"
          ],
          "name": "stdout"
        }
      ]
    },
    {
      "cell_type": "code",
      "metadata": {
        "colab": {
          "base_uri": "https://localhost:8080/"
        },
        "id": "c-c5TuiP6bpZ",
        "outputId": "8380305f-e5bf-46a3-f80c-7ae33bf3a60a"
      },
      "source": [
        "# randomly shuffle a sequence\n",
        "from random import seed\n",
        "from random import shuffle\n",
        "\n",
        "# seed random number generator\n",
        "seed(1)\n",
        "\n",
        "# prepare a sequence\n",
        "sequence = [i for i in range(20)]\n",
        "print(sequence)\n",
        "\n",
        "# randomly shuffle the sequence (in-place shuffle)\n",
        "shuffle(sequence)\n",
        "print(sequence)\n"
      ],
      "execution_count": 13,
      "outputs": [
        {
          "output_type": "stream",
          "text": [
            "[0, 1, 2, 3, 4, 5, 6, 7, 8, 9, 10, 11, 12, 13, 14, 15, 16, 17, 18, 19]\n",
            "[11, 5, 17, 19, 9, 0, 16, 1, 15, 6, 10, 13, 14, 12, 7, 3, 8, 2, 18, 4]\n"
          ],
          "name": "stdout"
        }
      ]
    },
    {
      "cell_type": "markdown",
      "metadata": {
        "id": "TFjCAR6g9G3G"
      },
      "source": [
        "## Random Numbers with NumPy\n",
        "\n",
        "In machine learning, you are likely using libraries such as scikit-learn and Keras. These libraries make use of NumPy under the covers, a library that makes working with vectors and matrices of numbers very efficient."
      ]
    },
    {
      "cell_type": "code",
      "metadata": {
        "colab": {
          "base_uri": "https://localhost:8080/"
        },
        "id": "9s-qXCEt86A7",
        "outputId": "5da6e1d2-3292-444e-a05d-c0560a58b425"
      },
      "source": [
        "# seed the pseudorandom number generator\n",
        "from numpy.random import seed\n",
        "from numpy.random import rand\n",
        "\n",
        "# seed random number generator\n",
        "seed(1)\n",
        "\n",
        "# generate some random numbers\n",
        "print(rand(3))\n",
        "\n",
        "# reset the seed\n",
        "seed(1)\n",
        "\n",
        "# generate some random numbers\n",
        "print(rand(3))"
      ],
      "execution_count": 14,
      "outputs": [
        {
          "output_type": "stream",
          "text": [
            "[4.17022005e-01 7.20324493e-01 1.14374817e-04]\n",
            "[4.17022005e-01 7.20324493e-01 1.14374817e-04]\n"
          ],
          "name": "stdout"
        }
      ]
    },
    {
      "cell_type": "code",
      "metadata": {
        "colab": {
          "base_uri": "https://localhost:8080/"
        },
        "id": "1aNe1h499zGn",
        "outputId": "c580ca49-5583-42d2-e87c-1eccc1c2fafb"
      },
      "source": [
        "# generate random floating point values\n",
        "from numpy.random import seed\n",
        "from numpy.random import rand\n",
        "\n",
        "# seed random number generator\n",
        "seed(1)\n",
        "\n",
        "# generate random numbers between 0 and 1\n",
        "values = rand(10)\n",
        "print(values)\n"
      ],
      "execution_count": 15,
      "outputs": [
        {
          "output_type": "stream",
          "text": [
            "[4.17022005e-01 7.20324493e-01 1.14374817e-04 3.02332573e-01\n",
            " 1.46755891e-01 9.23385948e-02 1.86260211e-01 3.45560727e-01\n",
            " 3.96767474e-01 5.38816734e-01]\n"
          ],
          "name": "stdout"
        }
      ]
    },
    {
      "cell_type": "code",
      "metadata": {
        "colab": {
          "base_uri": "https://localhost:8080/"
        },
        "id": "KKFBBoLb-EgN",
        "outputId": "af5eef2a-de76-4cd6-d61c-bbe2217f3a9e"
      },
      "source": [
        "# generate random integer values\n",
        "from numpy.random import seed\n",
        "from numpy.random import randint\n",
        "\n",
        "# seed random number generator\n",
        "seed(1)\n",
        "\n",
        "# generate some integers\n",
        "values = randint(0, 10, 20) # lower-end, higher-end, number of integer values to generate\n",
        "print(values)"
      ],
      "execution_count": 16,
      "outputs": [
        {
          "output_type": "stream",
          "text": [
            "[5 8 9 5 0 0 1 7 6 9 2 4 5 2 4 2 4 7 7 9]\n"
          ],
          "name": "stdout"
        }
      ]
    },
    {
      "cell_type": "code",
      "metadata": {
        "colab": {
          "base_uri": "https://localhost:8080/"
        },
        "id": "rdXplHcV_Isa",
        "outputId": "84a0f648-0d62-413f-ff78-3a64a40076ee"
      },
      "source": [
        "# generate random Gaussian values\n",
        "from numpy.random import seed\n",
        "from numpy.random import randn\n",
        "\n",
        "# seed random number generator\n",
        "seed(1)\n",
        "\n",
        "# generate some Gaussian values\n",
        "values = randn(10) # mean=0, standard deviation=1\n",
        "print(values)"
      ],
      "execution_count": 19,
      "outputs": [
        {
          "output_type": "stream",
          "text": [
            "[ 1.62434536 -0.61175641 -0.52817175 -1.07296862  0.86540763 -2.3015387\n",
            "  1.74481176 -0.7612069   0.3190391  -0.24937038]\n",
            "[]\n"
          ],
          "name": "stdout"
        }
      ]
    },
    {
      "cell_type": "code",
      "metadata": {
        "colab": {
          "base_uri": "https://localhost:8080/"
        },
        "id": "QPuf9k60_m9N",
        "outputId": "0331d031-8788-4f3b-dc5a-5bc4fe571a7b"
      },
      "source": [
        "# randomly shuffle a sequence\n",
        "from numpy.random import seed\n",
        "from numpy.random import shuffle\n",
        "\n",
        "# seed random number generator\n",
        "seed(1)\n",
        "\n",
        "# prepare a sequence\n",
        "sequence = [i for i in range(20)]\n",
        "print(sequence)\n",
        "\n",
        "# randomly shuffle the sequence\n",
        "shuffle(sequence)\n",
        "print(sequence)"
      ],
      "execution_count": 21,
      "outputs": [
        {
          "output_type": "stream",
          "text": [
            "[0, 1, 2, 3, 4, 5, 6, 7, 8, 9, 10, 11, 12, 13, 14, 15, 16, 17, 18, 19]\n",
            "[3, 16, 6, 10, 2, 14, 4, 17, 7, 1, 13, 0, 19, 18, 9, 15, 8, 12, 11, 5]\n"
          ],
          "name": "stdout"
        }
      ]
    },
    {
      "cell_type": "markdown",
      "metadata": {
        "id": "7QiwWcIpAa3l"
      },
      "source": [
        "## When to Seed the Random Number Generator\n",
        "\n",
        "There are times during a predictive modeling project when you should consider seeding the random number generator. Let’s look at two cases:\n",
        "* Data Preparation. \n",
        "* Data Splits. "
      ]
    },
    {
      "cell_type": "markdown",
      "metadata": {
        "id": "0rzbArCmA36J"
      },
      "source": [
        "## How to Control for Randomness\n",
        "\n",
        "A stochastic machine learning algorithm will learn slightly differently each time it is run on the same data. This will result in a model with slightly different performance each time it is trained.\n",
        "\n",
        "A better approach is to evaluate the algorithm in such a way that the reported performance includes the measured uncertainty in the performance of the algorithm. We can do that by repeating the evaluation of the algorithm multiple times with different sequences of random numbers.\n",
        "\n",
        "There are two uncertainty to consider:\n",
        "* Data uncertainty\n",
        "* Algorithm uncertainty\n",
        "\n"
      ]
    },
    {
      "cell_type": "code",
      "metadata": {
        "id": "1bhbqzPXAT5O"
      },
      "source": [
        ""
      ],
      "execution_count": null,
      "outputs": []
    }
  ]
}