{
  "nbformat": 4,
  "nbformat_minor": 0,
  "metadata": {
    "colab": {
      "name": "02 - Statistics vs. Machine Learning.ipynb",
      "provenance": [],
      "authorship_tag": "ABX9TyMlJubMKzBXVl7Rv3iqtJiK",
      "include_colab_link": true
    },
    "kernelspec": {
      "name": "python3",
      "display_name": "Python 3"
    },
    "language_info": {
      "name": "python"
    }
  },
  "cells": [
    {
      "cell_type": "markdown",
      "metadata": {
        "id": "view-in-github",
        "colab_type": "text"
      },
      "source": [
        "<a href=\"https://colab.research.google.com/github/finesketch/statistics/blob/main/02_Statistics_vs_Machine_Learning.ipynb\" target=\"_parent\"><img src=\"https://colab.research.google.com/assets/colab-badge.svg\" alt=\"Open In Colab\"/></a>"
      ]
    },
    {
      "cell_type": "markdown",
      "metadata": {
        "id": "iG9kR38f0L7g"
      },
      "source": [
        "The machine learning practitioner has a tradition of algorithms and a pragmatic focus on results and model skill above other concerns such as model interpretability. Statisticians work on much the same type of modeling problems under the names of applied statistics and statistical learning.\n",
        "\n",
        "* Machine learning and predictive modeling are a computer science perspective on modeling data with a focus on algorithmic methods and model skill.\n",
        "* Statistics and statistical learning are a mathematical perspective on modeling data with a focus on data models and on goodness of fit.\n",
        "* Machine learning practitioners must keep an open mind and leverage methods and understand the terminology from the closely related fields of applied statistics and statistical learning.\n"
      ]
    },
    {
      "cell_type": "code",
      "metadata": {
        "id": "ioVqj5oT0Mbq"
      },
      "source": [
        ""
      ],
      "execution_count": null,
      "outputs": []
    }
  ]
}