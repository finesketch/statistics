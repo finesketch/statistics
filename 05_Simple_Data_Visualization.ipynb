{
  "nbformat": 4,
  "nbformat_minor": 0,
  "metadata": {
    "colab": {
      "name": "05 - Simple Data Visualization.ipynb",
      "provenance": [],
      "authorship_tag": "ABX9TyOZT8vxAvv7foaiUdGvEYTY",
      "include_colab_link": true
    },
    "kernelspec": {
      "name": "python3",
      "display_name": "Python 3"
    },
    "language_info": {
      "name": "python"
    }
  },
  "cells": [
    {
      "cell_type": "markdown",
      "metadata": {
        "id": "view-in-github",
        "colab_type": "text"
      },
      "source": [
        "<a href=\"https://colab.research.google.com/github/finesketch/statistics/blob/main/05_Simple_Data_Visualization.ipynb\" target=\"_parent\"><img src=\"https://colab.research.google.com/assets/colab-badge.svg\" alt=\"Open In Colab\"/></a>"
      ]
    },
    {
      "cell_type": "markdown",
      "metadata": {
        "id": "haKWUahhW-nH"
      },
      "source": [
        "Data visualization provides an important suite of tools for gaining a qualitative understanding.\n"
      ]
    },
    {
      "cell_type": "markdown",
      "metadata": {
        "id": "lsMMAn5AYeNz"
      },
      "source": [
        "## Matplotlib\n",
        "\n",
        "There are many excellent plotting libraries in Python and I recommend exploring them in order to create presentable graphics. For quick and dirty plots intended for your own use, I recommend using the Matplotlib library. It is the foundation for many other plotting libraries and plotting support in higher-level libraries such as Pandas."
      ]
    },
    {
      "cell_type": "code",
      "metadata": {
        "id": "tOvpmMijW-1U"
      },
      "source": [
        "# import matplotlib library\n",
        "from matplotlib import pyplot\n",
        "\n",
        "# create plot\n",
        "#pyplot.plot(...)\n",
        "\n",
        "# display the plot\n",
        "#pyplot.show()\n",
        "\n",
        "# save plot to a file\n",
        "#pyplot.savefig('my_image.png')"
      ],
      "execution_count": null,
      "outputs": []
    },
    {
      "cell_type": "markdown",
      "metadata": {
        "id": "O6WYhkIOZR2Y"
      },
      "source": [
        "## Line Plot\n",
        "\n",
        "A line plot is generally used to present observations collected at regular intervals. The x-axis represents the regular interval, such as time. The y-axis shows the observations, ordered by the x-axis and connected by a line."
      ]
    },
    {
      "cell_type": "code",
      "metadata": {
        "colab": {
          "base_uri": "https://localhost:8080/",
          "height": 265
        },
        "id": "nLZFklCsZYoN",
        "outputId": "9a53d28e-32d2-4f93-d00b-36145722223e"
      },
      "source": [
        "# example of a line plot\n",
        "from numpy import sin\n",
        "from matplotlib import pyplot\n",
        "\n",
        "# consistent interval for x-axis\n",
        "x = [x * 0.1 for x in range(100)]\n",
        "\n",
        "# function of a for y-axis\n",
        "y = sin(x)\n",
        "\n",
        "# create line plot\n",
        "pyplot.plot(x, y)\n",
        "\n",
        "# show line plot\n",
        "pyplot.show()"
      ],
      "execution_count": 1,
      "outputs": [
        {
          "output_type": "display_data",
          "data": {
            "image/png": "[encoded data removed]",
            "text/plain": [
              "<Figure size 432x288 with 1 Axes>"
            ]
          },
          "metadata": {
            "tags": [],
            "needs_background": "light"
          }
        }
      ]
    },
    {
      "cell_type": "markdown",
      "metadata": {
        "id": "sjdOPfggaBTE"
      },
      "source": [
        "## Bar Chart\n",
        "\n",
        "A bar chart is generally used to present relative quantities for multiple categories. The x-axis represents the categories and are spaced evenly. The y-axis represents the quantity for each category and is drawn as a bar from the baseline to the appropriate level on the y-axis."
      ]
    },
    {
      "cell_type": "code",
      "metadata": {
        "colab": {
          "base_uri": "https://localhost:8080/",
          "height": 265
        },
        "id": "T1ogNy3jZ4Dn",
        "outputId": "84f407bc-939d-403c-ae51-ce170b56e1c1"
      },
      "source": [
        "# example of a bar char\n",
        "from numpy.random import seed\n",
        "from numpy.random import randint\n",
        "from matplotlib import pyplot\n",
        "\n",
        "# seed the random number generator\n",
        "seed(1)\n",
        "\n",
        "# names jfor categories\n",
        "x = ['red', 'green', 'blue']\n",
        "\n",
        "# quantities for each category\n",
        "y = [randint(0, 100), randint(0,100), randint(0, 100)]\n",
        "\n",
        "# create bar chart\n",
        "pyplot.bar(x, y)\n",
        "\n",
        "# show line plot\n",
        "pyplot.show()"
      ],
      "execution_count": 6,
      "outputs": [
        {
          "output_type": "display_data",
          "data": {
            "image/png": "[encoded data removed]",
            "text/plain": [
              "<Figure size 432x288 with 1 Axes>"
            ]
          },
          "metadata": {
            "tags": [],
            "needs_background": "light"
          }
        }
      ]
    },
    {
      "cell_type": "markdown",
      "metadata": {
        "id": "NSOrvWnta-iM"
      },
      "source": [
        "## Histogram Plot\n",
        "\n",
        "A histogram plot is generally used to summarize the distribution of a data sample. The x-axis represents discrete bins or intervals for the observations."
      ]
    },
    {
      "cell_type": "code",
      "metadata": {
        "colab": {
          "base_uri": "https://localhost:8080/",
          "height": 269
        },
        "id": "DfYOBtFsa-1g",
        "outputId": "fe90d6f9-e826-4171-8dcf-ba9fd5d084b0"
      },
      "source": [
        "# example of a histogram plot\n",
        "from numpy.random import seed\n",
        "from numpy.random import randn\n",
        "from matplotlib import pyplot\n",
        "\n",
        "# seed the random number generator\n",
        "seed(1)\n",
        "\n",
        "# random numbers drawn from a Gaussian distribution\n",
        "x = randn(1000)\n",
        "\n",
        "# create a histogram plot\n",
        "pyplot.hist(x)\n",
        "\n",
        "# show histogram plot\n",
        "pyplot.show()"
      ],
      "execution_count": 7,
      "outputs": [
        {
          "output_type": "display_data",
          "data": {
            "image/png": "[encoded data removed]",
            "text/plain": [
              "<Figure size 432x288 with 1 Axes>"
            ]
          },
          "metadata": {
            "tags": [],
            "needs_background": "light"
          }
        }
      ]
    },
    {
      "cell_type": "code",
      "metadata": {
        "colab": {
          "base_uri": "https://localhost:8080/",
          "height": 265
        },
        "id": "gCYQIFPoa0zj",
        "outputId": "460c068f-fc13-404f-85eb-a3c272542c9c"
      },
      "source": [
        "# another example of a histogram plot (better)\n",
        "from numpy.random import seed\n",
        "from numpy.random import randn\n",
        "from matplotlib import pyplot\n",
        "\n",
        "# seed the random number generator\n",
        "seed(1)\n",
        "\n",
        "# random numbers drawn from a Gaussian distribution\n",
        "x = randn(1000)\n",
        "\n",
        "# create a histogram plot\n",
        "pyplot.hist(x, bins=100)\n",
        "\n",
        "# show histogram plot\n",
        "pyplot.show()"
      ],
      "execution_count": 8,
      "outputs": [
        {
          "output_type": "display_data",
          "data": {
            "image/png": "[encoded data removed]",
            "text/plain": [
              "<Figure size 432x288 with 1 Axes>"
            ]
          },
          "metadata": {
            "tags": [],
            "needs_background": "light"
          }
        }
      ]
    },
    {
      "cell_type": "markdown",
      "metadata": {
        "id": "DVPmHzfbb5KT"
      },
      "source": [
        "## Box and Whisker Plot\n",
        "\n",
        "A box and whisker plot, or boxplot for short, is generally used to summarize the distribution of a data sample. The x-axis is used to represent the data sample, where multiple boxplots can be drawn side by side on the x-axis if desired. The y-axis represents the observation values. A box is drawn to summarize the middle 50% of the dataset starting at the observation at the 25th percentile and ending at the 75th percentile. Or it is called *interquartile range* (IQR). The median, or 50th percentile, is drawn with a line. Lines called whiskers are drawn extending from both ends of the box calculated as 1.5×IQR to demonstrate the expected range of sensible values in the distribution. Observations outside the whiskers might be outliers and are drawn with small circles.\n"
      ]
    },
    {
      "cell_type": "code",
      "metadata": {
        "colab": {
          "base_uri": "https://localhost:8080/",
          "height": 267
        },
        "id": "s_rT5ArJb5cQ",
        "outputId": "2a3c42e9-a120-4d1a-c942-bfc3e88909c1"
      },
      "source": [
        "# example of a box and whisker plot\n",
        "from numpy.random import seed\n",
        "from numpy.random import randn\n",
        "from matplotlib import pyplot\n",
        "\n",
        "# seed the random number generator\n",
        "seed(1)\n",
        "\n",
        "# random numbers drawn from a Gaussian distribution\n",
        "x = [randn(1000), 5 * randn(1000), 10 * randn(1000)]\n",
        "\n",
        "# create box and whisker plot\n",
        "pyplot.boxplot(x)\n",
        "\n",
        "# show box and whisker plot\n",
        "pyplot.show()"
      ],
      "execution_count": 9,
      "outputs": [
        {
          "output_type": "display_data",
          "data": {
            "image/png": "[encoded data removed]",
            "text/plain": [
              "<Figure size 432x288 with 1 Axes>"
            ]
          },
          "metadata": {
            "tags": [],
            "needs_background": "light"
          }
        }
      ]
    },
    {
      "cell_type": "markdown",
      "metadata": {
        "id": "35ZAR9nsdu4G"
      },
      "source": [
        "## Scatter Plot\n",
        "\n",
        "Is generally used to summarize the relationship between two paired data samples. Paired data samples means that two measures were recorded for a given observation, such as the weight and height of a person. The x-axis represents observation values for the first sample, and the y-axis represents the observation values for the second sample."
      ]
    },
    {
      "cell_type": "code",
      "metadata": {
        "colab": {
          "base_uri": "https://localhost:8080/",
          "height": 265
        },
        "id": "kl2QPn_UdZbu",
        "outputId": "8339eaef-1f68-420c-d2c9-dcfb058035b1"
      },
      "source": [
        "# example of a scatter plot\n",
        "from numpy.random import seed\n",
        "from numpy.random import randn\n",
        "from matplotlib import pyplot\n",
        "\n",
        "# seed the random number generator\n",
        "seed(1)\n",
        "\n",
        "# first variable\n",
        "x = 20 * randn(1000) + 100\n",
        "\n",
        "# second variable\n",
        "y = x + (10 * randn(1000) + 50)\n",
        "\n",
        "# create scatter plot\n",
        "pyplot.scatter(x, y)\n",
        "\n",
        "# show the scatterplot\n",
        "pyplot.show()"
      ],
      "execution_count": 10,
      "outputs": [
        {
          "output_type": "display_data",
          "data": {
            "image/png": "[encoded data removed]",
            "text/plain": [
              "<Figure size 432x288 with 1 Axes>"
            ]
          },
          "metadata": {
            "tags": [],
            "needs_background": "light"
          }
        }
      ]
    },
    {
      "cell_type": "markdown",
      "metadata": {
        "id": "_bRg5IcRh_6J"
      },
      "source": [
        "**References:**\n",
        "* Book **Python for Data Analysis**: https://www.amazon.com/Python-Data-Analysis-Wrangling-IPython/dp/1491957662/ref=as_li_ss_tl?_encoding=UTF8&pd_rd_i=1491957662&pd_rd_r=9VKN1Y8QC94PBNVXBZQC&pd_rd_w=nAOCo&pd_rd_wg=EckJh&psc=1&refRID=9VKN1Y8QC94PBNVXBZQC&linkCode=sl1&tag=inspiredalgor-20&linkId=534839ae4e4cd21d4d734cc0179c6aa5\n",
        "* Book **The Visual Display of Quantitative Information**: https://www.amazon.com/Visual-Display-Quantitative-Information/dp/0961392142/ref=as_li_ss_tl?ie=UTF8&qid=1521082239&sr=8-16&keywords=data+visualization&linkCode=sl1&tag=inspiredalgor-20&linkId=cd8082f9213b87a44ec7207ba162d89a"
      ]
    },
    {
      "cell_type": "code",
      "metadata": {
        "id": "QCQ3UsZphdBH"
      },
      "source": [
        ""
      ],
      "execution_count": null,
      "outputs": []
    }
  ]
}