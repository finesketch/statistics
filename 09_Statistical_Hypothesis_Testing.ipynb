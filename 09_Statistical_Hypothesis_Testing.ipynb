{
  "nbformat": 4,
  "nbformat_minor": 0,
  "metadata": {
    "colab": {
      "name": "09 - Statistical Hypothesis Testing.ipynb",
      "provenance": [],
      "authorship_tag": "ABX9TyNYKVv7TcsQHVNT2cd+hh7o",
      "include_colab_link": true
    },
    "kernelspec": {
      "name": "python3",
      "display_name": "Python 3"
    },
    "language_info": {
      "name": "python"
    }
  },
  "cells": [
    {
      "cell_type": "markdown",
      "metadata": {
        "id": "view-in-github",
        "colab_type": "text"
      },
      "source": [
        "<a href=\"https://colab.research.google.com/github/finesketch/statistics/blob/main/09_Statistical_Hypothesis_Testing.ipynb\" target=\"_parent\"><img src=\"https://colab.research.google.com/assets/colab-badge.svg\" alt=\"Open In Colab\"/></a>"
      ]
    },
    {
      "cell_type": "markdown",
      "metadata": {
        "id": "La6J6TOk_w__"
      },
      "source": [
        "Data must be interpreted in order to discover meaning. We can interpret data by assuming a specific structured outcome and use statistical methods to confirm or reject the assumption. The assumption is called a hypothesis and the statistical tests used for this purpose are called statistical hypothesis tests.\n",
        "\n",
        "* Statistical hypothesis tests are important for quantifying answers to questions about samples of data.\n",
        "* The interpretation of a statistical hypothesis test requires a correct understanding of p-values and critical values.\n",
        "* Regardless of the significance level, the finding of hypothesis tests may still contain errors."
      ]
    },
    {
      "cell_type": "markdown",
      "metadata": {
        "id": "YWwIZpeUBNA5"
      },
      "source": [
        "## Statistical Hypothesis Testing\n",
        "\n",
        "In statistics, when we wish to start asking questions about the data and interpret the results, we use statistical methods that provide a confidence or likelihood about the answers. In general, this class of methods is called statistical hypothesis testing, or significance tests.\n",
        "\n",
        "Two concrete examples that we will use a lot in machine learning are:\n",
        "* A test that assumes that data has a normal distribution.\n",
        "* A test that assumes that two samples were drawn from the same underlying population distribution.\n",
        "\n",
        "The assumption of a statistical test is called the null hypothesis, or hypothesis zero (H0 for short). It is often called the default assumption, or the assumption that nothing has changed.\n",
        "\n",
        "A violation of the test’s assumption is often called the first hypothesis, hypothesis one or H1 for short. H1 is really a short hand for some other hypothesis, as all we know is that the evidence suggests that the H0 can be rejected.\n",
        "* Hypothesis 0 (H0): Assumption of the test fails to be rejected.\n",
        "* Hypothesis 1 (H1): Assumption of the test does not hold and is rejected at some level of significance."
      ]
    },
    {
      "cell_type": "markdown",
      "metadata": {
        "id": "fT5RxtQEC5Ak"
      },
      "source": [
        "## Statistical Test Interpretation\n",
        "\n",
        "There are two common forms that a result from a statistical hypothesis test may take, and they must be interpreted in different ways. They are the p-value and critical values.\n",
        "\n",
        "### Interpet the p-value\n",
        "\n",
        "We describe a finding as statistically significant by interpreting the p-value. that the default or null hypothesis can be rejected.\n",
        "* p-value ≤ alpha: significant result, reject null hypothesis (H1).\n",
        "* p-value > alpha: not significant result, fail to reject the null hypothesis (H0).\n",
        "\n",
        "**confidence level = 1 − significance level**"
      ]
    },
    {
      "cell_type": "markdown",
      "metadata": {
        "id": "bxIfr2pVHh-z"
      },
      "source": [
        "## Degrees of Freedom in Statistics\n",
        "\n",
        "\n",
        "**mean(x):**\n",
        "\n",
        "$\\mu = \\frac{1}{n} \\times \\displaystyle\\sum_{i=1}^{n}x_i$\n",
        "\n",
        "**variance(x):**\n",
        "\n",
        "$\\sigma^2 = \\frac{1}{n-1} \\times \\displaystyle\\sum_{i=1}^{n}(x_i - \\mu)^2$"
      ]
    },
    {
      "cell_type": "code",
      "metadata": {
        "colab": {
          "base_uri": "https://localhost:8080/"
        },
        "id": "uU7ijNg7_xPG",
        "outputId": "50dfa30b-c6a4-46c0-87ac-ae80e77dd55e"
      },
      "source": [
        "import numpy as np\n",
        "\n",
        "#initialize arrays\n",
        "A = np.array([[2, 1], [0, 2]])\n",
        "B = np.array([[3, 4], [-1, 5]])\n",
        "\n",
        "#dot product\n",
        "output = np.dot(A, B)\n",
        "\n",
        "print(output)"
      ],
      "execution_count": 1,
      "outputs": [
        {
          "output_type": "stream",
          "text": [
            "[[ 5 13]\n",
            " [-2 10]]\n"
          ],
          "name": "stdout"
        }
      ]
    },
    {
      "cell_type": "code",
      "metadata": {
        "colab": {
          "base_uri": "https://localhost:8080/"
        },
        "id": "VLB61XIwjnqV",
        "outputId": "9d0b25c4-3f9b-43b4-89d5-b04fb8eb83b3"
      },
      "source": [
        "import numpy as np\n",
        "\n",
        "#initialize arrays\n",
        "A = np.array([[1, 3, 5], [2, 4, 6]])\n",
        "B = np.array([[0, 1], [1, 0], [0, 1]])\n",
        "\n",
        "#dot product\n",
        "output = np.dot(A, B)\n",
        "\n",
        "print(output)"
      ],
      "execution_count": 68,
      "outputs": [
        {
          "output_type": "stream",
          "text": [
            "[[3 6]\n",
            " [4 8]]\n"
          ],
          "name": "stdout"
        }
      ]
    },
    {
      "cell_type": "code",
      "metadata": {
        "colab": {
          "base_uri": "https://localhost:8080/"
        },
        "id": "KLiUyPdoM7KZ",
        "outputId": "9b3aa389-4b46-4914-deaa-558efa19f3e4"
      },
      "source": [
        "import numpy as np\n",
        "\n",
        "#initialize arrays\n",
        "A = np.array([[1, 2], [2, 5]])\n",
        "B = np.array([-1, 1])\n",
        "C = np.array([3, 0])\n",
        "\n",
        "#dot product\n",
        "output = np.dot(A, B) + C\n",
        "\n",
        "print(output)"
      ],
      "execution_count": 67,
      "outputs": [
        {
          "output_type": "stream",
          "text": [
            "[4 3]\n"
          ],
          "name": "stdout"
        }
      ]
    },
    {
      "cell_type": "code",
      "metadata": {
        "colab": {
          "base_uri": "https://localhost:8080/"
        },
        "id": "CipA7vIjUcE1",
        "outputId": "87dcad7a-95f1-4816-f944-e75871f5cff7"
      },
      "source": [
        "def repeat_print(msg, n= 5):\n",
        "  while n > 0:\n",
        "    print(msg, end='')\n",
        "    n -= 1\n",
        "\n",
        "repeat_print('a', 4)"
      ],
      "execution_count": 4,
      "outputs": [
        {
          "output_type": "stream",
          "text": [
            "aaaa"
          ],
          "name": "stdout"
        }
      ]
    },
    {
      "cell_type": "code",
      "metadata": {
        "colab": {
          "base_uri": "https://localhost:8080/"
        },
        "id": "HdciRbP1U_Jy",
        "outputId": "bd255a29-3021-4054-b7b7-eb59e23a9c1d"
      },
      "source": [
        "for i in range(1,11):\n",
        "    print(i)"
      ],
      "execution_count": 7,
      "outputs": [
        {
          "output_type": "stream",
          "text": [
            "1\n",
            "2\n",
            "3\n",
            "4\n",
            "5\n",
            "6\n",
            "7\n",
            "8\n",
            "9\n",
            "10\n"
          ],
          "name": "stdout"
        }
      ]
    },
    {
      "cell_type": "code",
      "metadata": {
        "colab": {
          "base_uri": "https://localhost:8080/"
        },
        "id": "ZKNb365TVa-j",
        "outputId": "de3a01c9-6555-4849-aa1a-e7906ee6af7d"
      },
      "source": [
        "def s(x):\n",
        "  return x ** 2\n",
        "\n",
        "tot=0\n",
        "for i in [1,3,5]:\n",
        "  tot += s(i)\n",
        "\n",
        "print(tot)\n"
      ],
      "execution_count": 9,
      "outputs": [
        {
          "output_type": "stream",
          "text": [
            "35\n"
          ],
          "name": "stdout"
        }
      ]
    },
    {
      "cell_type": "code",
      "metadata": {
        "colab": {
          "base_uri": "https://localhost:8080/"
        },
        "id": "t_SQUxpVVsrn",
        "outputId": "6454f59e-af80-4759-d0ad-ef194c473cef"
      },
      "source": [
        "n = 20 #10\n",
        "count = 5\n",
        "while (count < n):\n",
        "  count = count + 3\n",
        "  print(count)\n",
        "# the ceiling of (n-5)/3"
      ],
      "execution_count": 15,
      "outputs": [
        {
          "output_type": "stream",
          "text": [
            "8\n",
            "11\n",
            "14\n",
            "17\n",
            "20\n"
          ],
          "name": "stdout"
        }
      ]
    },
    {
      "cell_type": "code",
      "metadata": {
        "id": "0I1fNiNUYHLf"
      },
      "source": [
        "import math\n",
        "\n",
        "def sigmoid(x):\n",
        "  return 1 / (1 + math.exp(-x))\n",
        "\n"
      ],
      "execution_count": null,
      "outputs": []
    },
    {
      "cell_type": "code",
      "metadata": {
        "colab": {
          "base_uri": "https://localhost:8080/"
        },
        "id": "aaDkeFOFZ5ci",
        "outputId": "e562067f-9bdc-405d-c2c1-df64745c9682"
      },
      "source": [
        "import numpy as np\n",
        "\n",
        "np.random.choice(['a', 'b', 'c'], size=3, replace=False)"
      ],
      "execution_count": 49,
      "outputs": [
        {
          "output_type": "execute_result",
          "data": {
            "text/plain": [
              "array(['a', 'b', 'c'], dtype='<U1')"
            ]
          },
          "metadata": {
            "tags": []
          },
          "execution_count": 49
        }
      ]
    },
    {
      "cell_type": "code",
      "metadata": {
        "colab": {
          "base_uri": "https://localhost:8080/"
        },
        "id": "mBHrE0-saUeF",
        "outputId": "fc85f16f-c85f-4713-830e-2305a184d8be"
      },
      "source": [
        "def add_marker(data=[]):\n",
        "  if 'marker' in data:\n",
        "    print('already added')\n",
        "  else:\n",
        "    data.append('marker')\n",
        "  return data\n",
        "\n",
        "v1 = add_marker()\n",
        "print(v1)\n",
        "v2 = add_marker()\n",
        "print(v2)\n",
        "v3 = add_marker()\n",
        "print(v3)"
      ],
      "execution_count": 66,
      "outputs": [
        {
          "output_type": "stream",
          "text": [
            "['marker']\n",
            "already added\n",
            "['marker']\n",
            "already added\n",
            "['marker']\n"
          ],
          "name": "stdout"
        }
      ]
    },
    {
      "cell_type": "code",
      "metadata": {
        "colab": {
          "base_uri": "https://localhost:8080/",
          "height": 198
        },
        "id": "YwNQUi8varZN",
        "outputId": "2ec5f8a6-ff3e-4746-9b36-f0e00a7e99a0"
      },
      "source": [
        ""
      ],
      "execution_count": 48,
      "outputs": [
        {
          "output_type": "error",
          "ename": "ValueError",
          "evalue": "ignored",
          "traceback": [
            "\u001b[0;31m---------------------------------------------------------------------------\u001b[0m",
            "\u001b[0;31mValueError\u001b[0m                                Traceback (most recent call last)",
            "\u001b[0;32m<ipython-input-48-bd2217f544be>\u001b[0m in \u001b[0;36m<module>\u001b[0;34m()\u001b[0m\n\u001b[0;32m----> 1\u001b[0;31m \u001b[0mnp\u001b[0m\u001b[0;34m.\u001b[0m\u001b[0mrandom\u001b[0m\u001b[0;34m.\u001b[0m\u001b[0mchoice\u001b[0m\u001b[0;34m(\u001b[0m\u001b[0;34m[\u001b[0m\u001b[0;34m'a'\u001b[0m\u001b[0;34m,\u001b[0m \u001b[0;34m'c'\u001b[0m\u001b[0;34m]\u001b[0m\u001b[0;34m,\u001b[0m \u001b[0msize\u001b[0m\u001b[0;34m=\u001b[0m\u001b[0;36m3\u001b[0m\u001b[0;34m,\u001b[0m \u001b[0mreplace\u001b[0m\u001b[0;34m=\u001b[0m\u001b[0;32mFalse\u001b[0m\u001b[0;34m)\u001b[0m\u001b[0;34m\u001b[0m\u001b[0;34m\u001b[0m\u001b[0m\n\u001b[0m",
            "\u001b[0;32mmtrand.pyx\u001b[0m in \u001b[0;36mnumpy.random.mtrand.RandomState.choice\u001b[0;34m()\u001b[0m\n",
            "\u001b[0;31mValueError\u001b[0m: Cannot take a larger sample than population when 'replace=False'"
          ]
        }
      ]
    }
  ]
}