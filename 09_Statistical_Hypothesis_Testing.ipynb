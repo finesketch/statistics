{
  "nbformat": 4,
  "nbformat_minor": 0,
  "metadata": {
    "colab": {
      "name": "09 - Statistical Hypothesis Testing.ipynb",
      "provenance": [],
      "authorship_tag": "ABX9TyOccLcXtWq9mLJ/L5tGERIs",
      "include_colab_link": true
    },
    "kernelspec": {
      "name": "python3",
      "display_name": "Python 3"
    },
    "language_info": {
      "name": "python"
    }
  },
  "cells": [
    {
      "cell_type": "markdown",
      "metadata": {
        "id": "view-in-github",
        "colab_type": "text"
      },
      "source": [
        "<a href=\"https://colab.research.google.com/github/finesketch/statistics/blob/main/09_Statistical_Hypothesis_Testing.ipynb\" target=\"_parent\"><img src=\"https://colab.research.google.com/assets/colab-badge.svg\" alt=\"Open In Colab\"/></a>"
      ]
    },
    {
      "cell_type": "markdown",
      "metadata": {
        "id": "La6J6TOk_w__"
      },
      "source": [
        "Data must be interpreted in order to discover meaning. We can interpret data by assuming a specific structured outcome and use statistical methods to confirm or reject the assumption. The assumption is called a hypothesis and the statistical tests used for this purpose are called statistical hypothesis tests.\n",
        "\n",
        "* Statistical hypothesis tests are important for quantifying answers to questions about samples of data.\n",
        "* The interpretation of a statistical hypothesis test requires a correct understanding of p-values and critical values.\n",
        "* Regardless of the significance level, the finding of hypothesis tests may still contain errors."
      ]
    },
    {
      "cell_type": "markdown",
      "metadata": {
        "id": "YWwIZpeUBNA5"
      },
      "source": [
        "## Statistical Hypothesis Testing\n",
        "\n",
        "In statistics, when we wish to start asking questions about the data and interpret the results, we use statistical methods that provide a confidence or likelihood about the answers. In general, this class of methods is called statistical hypothesis testing, or significance tests.\n",
        "\n",
        "Two concrete examples that we will use a lot in machine learning are:\n",
        "* A test that assumes that data has a normal distribution.\n",
        "* A test that assumes that two samples were drawn from the same underlying population distribution.\n",
        "\n",
        "The assumption of a statistical test is called the null hypothesis, or hypothesis zero (H0 for short). It is often called the default assumption, or the assumption that nothing has changed.\n",
        "\n",
        "A violation of the test’s assumption is often called the first hypothesis, hypothesis one or H1 for short. H1 is really a short hand for some other hypothesis, as all we know is that the evidence suggests that the H0 can be rejected.\n",
        "* Hypothesis 0 (H0): Assumption of the test fails to be rejected.\n",
        "* Hypothesis 1 (H1): Assumption of the test does not hold and is rejected at some level of significance."
      ]
    },
    {
      "cell_type": "markdown",
      "metadata": {
        "id": "fT5RxtQEC5Ak"
      },
      "source": [
        "## Statistical Test Interpretation\n",
        "\n",
        "There are two common forms that a result from a statistical hypothesis test may take, and they must be interpreted in different ways. They are the p-value and critical values.\n",
        "\n",
        "### Interpet the p-value\n",
        "\n",
        "We describe a finding as statistically significant by interpreting the p-value. that the default or null hypothesis can be rejected.\n",
        "* p-value ≤ alpha: significant result, reject null hypothesis (H1).\n",
        "* p-value > alpha: not significant result, fail to reject the null hypothesis (H0).\n",
        "\n",
        "*confidence level = 1 − significance level*"
      ]
    },
    {
      "cell_type": "code",
      "metadata": {
        "id": "uU7ijNg7_xPG"
      },
      "source": [
        ""
      ],
      "execution_count": null,
      "outputs": []
    }
  ]
}