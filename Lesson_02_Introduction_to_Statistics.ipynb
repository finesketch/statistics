{
  "nbformat": 4,
  "nbformat_minor": 0,
  "metadata": {
    "colab": {
      "name": "Lesson 02 - Introduction to Statistics.ipynb",
      "provenance": [],
      "authorship_tag": "ABX9TyP3AMkBzza5YKIpbhYdv83K",
      "include_colab_link": true
    },
    "kernelspec": {
      "name": "python3",
      "display_name": "Python 3"
    },
    "language_info": {
      "name": "python"
    }
  },
  "cells": [
    {
      "cell_type": "markdown",
      "metadata": {
        "id": "view-in-github",
        "colab_type": "text"
      },
      "source": [
        "<a href=\"https://colab.research.google.com/github/finesketch/statistics/blob/main/Lesson_02_Introduction_to_Statistics.ipynb\" target=\"_parent\"><img src=\"https://colab.research.google.com/assets/colab-badge.svg\" alt=\"Open In Colab\"/></a>"
      ]
    },
    {
      "cell_type": "code",
      "metadata": {
        "id": "vkQYhvVZtfBK"
      },
      "source": [
        ""
      ],
      "execution_count": null,
      "outputs": []
    },
    {
      "cell_type": "markdown",
      "metadata": {
        "id": "SQNEESAStjKK"
      },
      "source": [
        "From the high-level, there are two categories of statistics:\n",
        "* **Descriptive Statistics**: Methods for summarizing raw observation into useful information for reader to understand, or he or she can relate to.\n",
        "* **Inferential Statistics**: Methods for quantifying properties of the domain or population from a smaller set of obtained observations called a sample.\n",
        "\n",
        "**Methods for Descriptive Statistics**\n",
        "* Median\n",
        "* Standard Deviation\n",
        "* Mode\n",
        "* Normal Distribution (Gaussian)\n",
        "* Binomial\n",
        "* Poisson Distribution\n",
        "\n",
        "**Methods for Inferential Statistics**\n",
        "* AUC\n",
        "* Kappa-Statistics Test\n",
        "* Confusion Matrix\n",
        "* F-1 Score\n",
        "* ANOVA\n",
        "* T-Test\n",
        "* Regression Analysis"
      ]
    }
  ]
}