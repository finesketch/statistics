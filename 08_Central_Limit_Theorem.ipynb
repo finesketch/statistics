{
  "nbformat": 4,
  "nbformat_minor": 0,
  "metadata": {
    "colab": {
      "name": "08 - Central Limit Theorem.ipynb",
      "provenance": [],
      "authorship_tag": "ABX9TyPhjij3lkBuoX2iD/4pQtUe",
      "include_colab_link": true
    },
    "kernelspec": {
      "name": "python3",
      "display_name": "Python 3"
    },
    "language_info": {
      "name": "python"
    }
  },
  "cells": [
    {
      "cell_type": "markdown",
      "metadata": {
        "id": "view-in-github",
        "colab_type": "text"
      },
      "source": [
        "<a href=\"https://colab.research.google.com/github/finesketch/statistics/blob/main/08_Central_Limit_Theorem.ipynb\" target=\"_parent\"><img src=\"https://colab.research.google.com/assets/colab-badge.svg\" alt=\"Open In Colab\"/></a>"
      ]
    },
    {
      "cell_type": "markdown",
      "metadata": {
        "id": "9kvUAOWmdY8y"
      },
      "source": [
        "## Central Limit Theorem\n",
        "\n",
        "The theorem states that as the size of the sample increases, the distribution of the mean across multiple samples will approximate a Gaussian distribution.\n",
        "\n",
        "* **Observation:** Result from one trial of an experiment.\n",
        "* **Sample:** Group of results gathered from separate independent trials.\n",
        "* **Population:** Space of all possible observations that could be seen from a trial.\n",
        "\n",
        "It is important that each trial that results in an observation be independent and performed in the same way. This is to ensure that the sample is drawing from the same underlying population distribution.\n",
        "\n",
        "### Law of Large Numbers\n",
        "\n",
        "The law of large numbers is another different theorem from statistics. It is simpler in that it states that as the size of a sample is increased, the more accurate of an estimate the sample mean will be of the population mean.\n",
        "\n",
        "The central limit theorem does not state anything about a single sample mean; instead, it is broader and states something about the shape or the distribution of sample means.\n",
        "\n"
      ]
    },
    {
      "cell_type": "markdown",
      "metadata": {
        "id": "wv9u_Vj89Jni"
      },
      "source": [
        "## Worked Example with Dice\n",
        "\n",
        "We can make the central limit theorem concrete with a worked example involving the rolling of die."
      ]
    },
    {
      "cell_type": "code",
      "metadata": {
        "colab": {
          "base_uri": "https://localhost:8080/"
        },
        "id": "iZIrDg0NdZKf",
        "outputId": "c4b00e60-b44d-4133-c53f-aee974e6f58b"
      },
      "source": [
        "# generate random dice rolls\n",
        "from numpy.random import seed\n",
        "from numpy.random import randint\n",
        "from numpy import mean\n",
        "\n",
        "# seed the random number generator\n",
        "seed(1)\n",
        "\n",
        "# generate a sample of die rools\n",
        "rolls = randint(1, 7, 50)\n",
        "\n",
        "print(rolls)\n",
        "print(mean(rolls))\n"
      ],
      "execution_count": 1,
      "outputs": [
        {
          "output_type": "stream",
          "text": [
            "[6 4 5 1 2 4 6 1 1 2 5 6 5 2 3 5 6 3 5 4 5 3 5 6 3 5 2 2 1 6 2 2 6 2 2 1 5\n",
            " 2 1 1 6 4 3 2 1 4 6 2 2 4]\n",
            "3.44\n"
          ],
          "name": "stdout"
        }
      ]
    },
    {
      "cell_type": "code",
      "metadata": {
        "colab": {
          "base_uri": "https://localhost:8080/",
          "height": 517
        },
        "id": "lZp1Oh7v9wVn",
        "outputId": "fe6bc70a-c45c-42e6-d4b3-0636dacb8127"
      },
      "source": [
        "# demonstration of the central limit theorem\n",
        "from numpy.random import seed\n",
        "from numpy.random import randint\n",
        "from numpy import mean\n",
        "from matplotlib import pyplot\n",
        "\n",
        "# seed the randon number generator\n",
        "seed(1)\n",
        "\n",
        "# calculate the mean of 50 dice rolls 1000 times\n",
        "means = [mean(randint(1, 7, 50)) for _ in range(1000)]\n",
        "\n",
        "# plot the distribution of sample means\n",
        "pyplot.hist(means)\n",
        "pyplot.show()\n",
        "\n",
        "# plot the distribution of sample means\n",
        "pyplot.hist(means, bins=100)\n",
        "pyplot.show()"
      ],
      "execution_count": 7,
      "outputs": [
        {
          "output_type": "display_data",
          "data": {
            "image/png": "[encoded data removed]",
            "text/plain": [
              "<Figure size 432x288 with 1 Axes>"
            ]
          },
          "metadata": {
            "tags": [],
            "needs_background": "light"
          }
        },
        {
          "output_type": "display_data",
          "data": {
            "image/png": "[encoded data removed]",
            "text/plain": [
              "<Figure size 432x288 with 1 Axes>"
            ]
          },
          "metadata": {
            "tags": [],
            "needs_background": "light"
          }
        }
      ]
    },
    {
      "cell_type": "markdown",
      "metadata": {
        "id": "2zCeIGac4QGn"
      },
      "source": [
        "## Impact on Machine Learning\n",
        "\n",
        "The central limit theorem has important implications in applied machine learning. The theorem does inform the solution to linear algorithms such as linear regression, but not exotic methods like artificial neural networks that are solved using numerical optimization methods.\n",
        "\n",
        "### Significance Tests\n",
        "\n",
        "In order to make inferences about the skill of a model compared to the skill of another model, we must use tools such as statistical significance tests. These tools estimate the likelihood that the two samples of model skill scores were drawn from the same or a different unknown underlying distribution of model skill scores.\n",
        "\n",
        "### Confidence Intervals\n",
        "\n",
        "Once we have trained a final model, we may wish to make an inference about how skillful the model is expected to be in practice."
      ]
    }
  ]
}