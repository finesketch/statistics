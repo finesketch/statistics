{
  "nbformat": 4,
  "nbformat_minor": 0,
  "metadata": {
    "colab": {
      "name": "11 - Critical Values.ipynb",
      "provenance": [],
      "authorship_tag": "ABX9TyMyX4A2+mPxnSlS+z0lcQKl",
      "include_colab_link": true
    },
    "kernelspec": {
      "name": "python3",
      "display_name": "Python 3"
    },
    "language_info": {
      "name": "python"
    }
  },
  "cells": [
    {
      "cell_type": "markdown",
      "metadata": {
        "id": "view-in-github",
        "colab_type": "text"
      },
      "source": [
        "<a href=\"https://colab.research.google.com/github/finesketch/statistics/blob/main/11_Critical_Values.ipynb\" target=\"_parent\"><img src=\"https://colab.research.google.com/assets/colab-badge.svg\" alt=\"Open In Colab\"/></a>"
      ]
    },
    {
      "cell_type": "markdown",
      "metadata": {
        "id": "7HjcjOPmWloM"
      },
      "source": [
        "### Why Do We Need Critical Values?\n",
        "\n",
        "Many statistical hypothesis tests return a p-value that is used to interpret the outcome of the test. Some tests do not return a p-value, requiring an alternative method for interpreting the calculated test statistic directly. A statistic calculated by a statistical hypothesis test can be interpreted using critical values from the distribution of the test statistic.\n",
        "\n",
        "Examples:\n",
        "\n",
        "* **Z-Test**: Gaussian distribution.\n",
        "* **Student’s t-Test**: Student’s t-distribution.\n",
        "* **Chi-Squared Test**: Chi-Squared distribution. \n",
        "* **ANOVA**: F-distribution.\n",
        "\n",
        "Critical values are also used when defining intervals for expected (or unexpected) observations in distributions. Calculating and using critical values may be appropriate when quantifying the uncertainty of estimated statistics or intervals such as confidence intervals and tolerance intervals. Note, a p-value can be calculated from a test statistic by retrieving the probability from the test statistics cumulative density function (CDF)."
      ]
    },
    {
      "cell_type": "markdown",
      "metadata": {
        "id": "x1fygJHpYzX9"
      },
      "source": [
        "## What is a Critical Value?\n",
        "\n",
        "A critical value is defined in the context of the population distribution and a probability. An observation from the population with a value equal to or lesser than a critical value with the given probability.\n",
        "\n",
        "$Pr[X <= criticalValue] = probability$"
      ]
    },
    {
      "cell_type": "code",
      "metadata": {
        "id": "8-_mHWswWl2j"
      },
      "source": [
        ""
      ],
      "execution_count": null,
      "outputs": []
    }
  ]
}