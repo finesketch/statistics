{
  "nbformat": 4,
  "nbformat_minor": 0,
  "metadata": {
    "colab": {
      "name": "Lesson 07 - Nonparametric Statistics.ipynb",
      "provenance": [],
      "authorship_tag": "ABX9TyMVr2YjFBjA4jgrXMkiVe60",
      "include_colab_link": true
    },
    "kernelspec": {
      "name": "python3",
      "display_name": "Python 3"
    },
    "language_info": {
      "name": "python"
    }
  },
  "cells": [
    {
      "cell_type": "markdown",
      "metadata": {
        "id": "view-in-github",
        "colab_type": "text"
      },
      "source": [
        "<a href=\"https://colab.research.google.com/github/finesketch/statistics/blob/main/Lesson_07_Nonparametric_Statistics.ipynb\" target=\"_parent\"><img src=\"https://colab.research.google.com/assets/colab-badge.svg\" alt=\"Open In Colab\"/></a>"
      ]
    },
    {
      "cell_type": "markdown",
      "metadata": {
        "id": "1IZkb2ln0Fes"
      },
      "source": [
        "In many scenario, ML developers need to use statistical methods not coming a Gaussion distribution, simply because the data is known to ML developers. This kind of scenario is called *nonparametric*.\n",
        "\n",
        "Before nonparametric data can be used, the data must be converted into a *rank format*, or called *rank statistics*, like *rank correlation* and *rank statistical hypothesis tests*.\n",
        "\n",
        "Here are the high-level procedure for *rank statistics*:\n",
        "* Sort all data in the sample in ascending order.\n",
        "* Assign an integer rank from 1 to N for each unique value in the data sample.\n",
        "\n",
        "Here is the widely used nonparametric statistical method:\n",
        "* Mann-Whitney U test (Henry Mann and Donald Whitney)"
      ]
    },
    {
      "cell_type": "code",
      "metadata": {
        "id": "K_uONUHT0GAR"
      },
      "source": [
        "# example of the mann-whitney u test\n",
        "from numpy.random import seed\n",
        "from numpy.random import rand\n",
        "from scipy.stats import mannwhitneyu"
      ],
      "execution_count": 1,
      "outputs": []
    },
    {
      "cell_type": "code",
      "metadata": {
        "id": "rA3fZ_XH2S9X"
      },
      "source": [
        "# seed the random number generator\n",
        "seed(1)"
      ],
      "execution_count": 2,
      "outputs": []
    },
    {
      "cell_type": "code",
      "metadata": {
        "id": "w0sCL1rS2X3q"
      },
      "source": [
        "# generate two independent samples\n",
        "data1 = 50 + rand(100) * 10\n",
        "data2 = 51 + rand(100) * 10"
      ],
      "execution_count": 5,
      "outputs": []
    },
    {
      "cell_type": "code",
      "metadata": {
        "colab": {
          "base_uri": "https://localhost:8080/"
        },
        "id": "7b1-mNxR2joX",
        "outputId": "ff98aa74-ff6f-450c-fc37-878864c6753c"
      },
      "source": [
        "# compare\n",
        "stat, p = mannwhitneyu(data1, data2)\n",
        "print(\"Statistics=%.3f, p=%.3f\" % (stat, p))"
      ],
      "execution_count": 6,
      "outputs": [
        {
          "output_type": "stream",
          "text": [
            "Statistics=4483.000, p=0.103\n"
          ],
          "name": "stdout"
        }
      ]
    },
    {
      "cell_type": "code",
      "metadata": {
        "colab": {
          "base_uri": "https://localhost:8080/"
        },
        "id": "l-2sTw-E2xjx",
        "outputId": "b11e1fe9-ad88-41b0-998c-460bcef6ab76"
      },
      "source": [
        "# interpret\n",
        "alpha = 0.05\n",
        "\n",
        "if p > alpha:\n",
        "  print(\"Same distribution (fail to reject H0)\")\n",
        "else:\n",
        "  print(\"Different distribution (reject H0)\")\n"
      ],
      "execution_count": 7,
      "outputs": [
        {
          "output_type": "stream",
          "text": [
            "Same distribution (fail to reject H0)\n"
          ],
          "name": "stdout"
        }
      ]
    },
    {
      "cell_type": "markdown",
      "metadata": {
        "id": "Y_ZIyVHp3YgQ"
      },
      "source": [
        "Assignment\n",
        "List three (or more) additional nonparametric statistical methods:\n",
        "- Spearman: If any of the variables is in a normal law\n",
        "- MCNmar: Need observations at different epochs on the same candidates\n",
        "- Kaplan-Meier: Used for sirvival estimation\n",
        "- Wilcoxon Signed\n",
        "- Kruskal-Wallis\n",
        "- Friedman"
      ]
    },
    {
      "cell_type": "code",
      "metadata": {
        "id": "2QRAIDW73UQn"
      },
      "source": [
        "\n"
      ],
      "execution_count": null,
      "outputs": []
    }
  ]
}